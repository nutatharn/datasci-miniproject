{
  "cells": [
    {
      "cell_type": "code",
      "execution_count": null,
      "metadata": {
        "id": "j5Dsndv4qjl4"
      },
      "outputs": [],
      "source": [
        "#import ไลบรารี\n",
        "import numpy as np\n",
        "import pandas as pd\n",
        "import seaborn as sns\n",
        "import matplotlib.pyplot as plt"
      ]
    },
    {
      "cell_type": "code",
      "execution_count": null,
      "metadata": {
        "id": "badFwAAdYCtw"
      },
      "outputs": [],
      "source": [
        "from sklearn.feature_extraction.text import CountVectorizer\n",
        "from sklearn.svm import SVC\n",
        "from sklearn.neural_network import MLPClassifier\n",
        "from sklearn.model_selection import cross_val_score\n",
        "from sklearn.naive_bayes import MultinomialNB\n",
        "from sklearn.linear_model import LogisticRegression\n",
        "from sklearn.neighbors import KNeighborsClassifier"
      ]
    },
    {
      "cell_type": "code",
      "execution_count": null,
      "metadata": {
        "colab": {
          "base_uri": "https://localhost:8080/"
        },
        "id": "fVcWFA43QYtQ",
        "outputId": "bdffd833-1610-4f15-b695-eae041d6d697"
      },
      "outputs": [
        {
          "output_type": "stream",
          "name": "stdout",
          "text": [
            "Mounted at /content/drive\n"
          ]
        }
      ],
      "source": [
        "#อนุญาตการเข้าถึง Google Drive\n",
        "from google.colab import drive\n",
        "drive.mount('/content/drive')"
      ]
    },
    {
      "cell_type": "code",
      "execution_count": null,
      "metadata": {
        "id": "utToZQQTQg3p"
      },
      "outputs": [],
      "source": [
        "data  = pd.read_csv('/content/drive/MyDrive/Dataset/combined_data.csv', encoding='latin1')"
      ]
    },
    {
      "cell_type": "code",
      "execution_count": null,
      "metadata": {
        "colab": {
          "base_uri": "https://localhost:8080/",
          "height": 363
        },
        "id": "8AVih3yiYb7D",
        "outputId": "77ead95c-932d-4e5d-e39a-89075daa4f3c"
      },
      "outputs": [
        {
          "output_type": "execute_result",
          "data": {
            "text/plain": [
              "   label                                               text\n",
              "0      1  ounce feather bowl hummingbird opec moment ala...\n",
              "1      1  wulvob get your medircations online qnb ikud v...\n",
              "2      0   computer connection from cnn com wednesday es...\n",
              "3      1  university degree obtain a prosperous future m...\n",
              "4      0  thanks for all your answers guys i know i shou...\n",
              "5      0  larry king live at escapenumber escapenumber p...\n",
              "6      0  michael pobega wrote i'm not sure if it's the ...\n",
              "7      0  hi i have this error tr sample escapenumber es...\n",
              "8      1  works gateway world art explore tattooing full...\n",
              "9      1  upon this account he is not only very cautious..."
            ],
            "text/html": [
              "\n",
              "  <div id=\"df-72aad39b-cbd0-40e0-906a-842c97054c4a\" class=\"colab-df-container\">\n",
              "    <div>\n",
              "<style scoped>\n",
              "    .dataframe tbody tr th:only-of-type {\n",
              "        vertical-align: middle;\n",
              "    }\n",
              "\n",
              "    .dataframe tbody tr th {\n",
              "        vertical-align: top;\n",
              "    }\n",
              "\n",
              "    .dataframe thead th {\n",
              "        text-align: right;\n",
              "    }\n",
              "</style>\n",
              "<table border=\"1\" class=\"dataframe\">\n",
              "  <thead>\n",
              "    <tr style=\"text-align: right;\">\n",
              "      <th></th>\n",
              "      <th>label</th>\n",
              "      <th>text</th>\n",
              "    </tr>\n",
              "  </thead>\n",
              "  <tbody>\n",
              "    <tr>\n",
              "      <th>0</th>\n",
              "      <td>1</td>\n",
              "      <td>ounce feather bowl hummingbird opec moment ala...</td>\n",
              "    </tr>\n",
              "    <tr>\n",
              "      <th>1</th>\n",
              "      <td>1</td>\n",
              "      <td>wulvob get your medircations online qnb ikud v...</td>\n",
              "    </tr>\n",
              "    <tr>\n",
              "      <th>2</th>\n",
              "      <td>0</td>\n",
              "      <td>computer connection from cnn com wednesday es...</td>\n",
              "    </tr>\n",
              "    <tr>\n",
              "      <th>3</th>\n",
              "      <td>1</td>\n",
              "      <td>university degree obtain a prosperous future m...</td>\n",
              "    </tr>\n",
              "    <tr>\n",
              "      <th>4</th>\n",
              "      <td>0</td>\n",
              "      <td>thanks for all your answers guys i know i shou...</td>\n",
              "    </tr>\n",
              "    <tr>\n",
              "      <th>5</th>\n",
              "      <td>0</td>\n",
              "      <td>larry king live at escapenumber escapenumber p...</td>\n",
              "    </tr>\n",
              "    <tr>\n",
              "      <th>6</th>\n",
              "      <td>0</td>\n",
              "      <td>michael pobega wrote i'm not sure if it's the ...</td>\n",
              "    </tr>\n",
              "    <tr>\n",
              "      <th>7</th>\n",
              "      <td>0</td>\n",
              "      <td>hi i have this error tr sample escapenumber es...</td>\n",
              "    </tr>\n",
              "    <tr>\n",
              "      <th>8</th>\n",
              "      <td>1</td>\n",
              "      <td>works gateway world art explore tattooing full...</td>\n",
              "    </tr>\n",
              "    <tr>\n",
              "      <th>9</th>\n",
              "      <td>1</td>\n",
              "      <td>upon this account he is not only very cautious...</td>\n",
              "    </tr>\n",
              "  </tbody>\n",
              "</table>\n",
              "</div>\n",
              "    <div class=\"colab-df-buttons\">\n",
              "\n",
              "  <div class=\"colab-df-container\">\n",
              "    <button class=\"colab-df-convert\" onclick=\"convertToInteractive('df-72aad39b-cbd0-40e0-906a-842c97054c4a')\"\n",
              "            title=\"Convert this dataframe to an interactive table.\"\n",
              "            style=\"display:none;\">\n",
              "\n",
              "  <svg xmlns=\"http://www.w3.org/2000/svg\" height=\"24px\" viewBox=\"0 -960 960 960\">\n",
              "    <path d=\"M120-120v-720h720v720H120Zm60-500h600v-160H180v160Zm220 220h160v-160H400v160Zm0 220h160v-160H400v160ZM180-400h160v-160H180v160Zm440 0h160v-160H620v160ZM180-180h160v-160H180v160Zm440 0h160v-160H620v160Z\"/>\n",
              "  </svg>\n",
              "    </button>\n",
              "\n",
              "  <style>\n",
              "    .colab-df-container {\n",
              "      display:flex;\n",
              "      gap: 12px;\n",
              "    }\n",
              "\n",
              "    .colab-df-convert {\n",
              "      background-color: #E8F0FE;\n",
              "      border: none;\n",
              "      border-radius: 50%;\n",
              "      cursor: pointer;\n",
              "      display: none;\n",
              "      fill: #1967D2;\n",
              "      height: 32px;\n",
              "      padding: 0 0 0 0;\n",
              "      width: 32px;\n",
              "    }\n",
              "\n",
              "    .colab-df-convert:hover {\n",
              "      background-color: #E2EBFA;\n",
              "      box-shadow: 0px 1px 2px rgba(60, 64, 67, 0.3), 0px 1px 3px 1px rgba(60, 64, 67, 0.15);\n",
              "      fill: #174EA6;\n",
              "    }\n",
              "\n",
              "    .colab-df-buttons div {\n",
              "      margin-bottom: 4px;\n",
              "    }\n",
              "\n",
              "    [theme=dark] .colab-df-convert {\n",
              "      background-color: #3B4455;\n",
              "      fill: #D2E3FC;\n",
              "    }\n",
              "\n",
              "    [theme=dark] .colab-df-convert:hover {\n",
              "      background-color: #434B5C;\n",
              "      box-shadow: 0px 1px 3px 1px rgba(0, 0, 0, 0.15);\n",
              "      filter: drop-shadow(0px 1px 2px rgba(0, 0, 0, 0.3));\n",
              "      fill: #FFFFFF;\n",
              "    }\n",
              "  </style>\n",
              "\n",
              "    <script>\n",
              "      const buttonEl =\n",
              "        document.querySelector('#df-72aad39b-cbd0-40e0-906a-842c97054c4a button.colab-df-convert');\n",
              "      buttonEl.style.display =\n",
              "        google.colab.kernel.accessAllowed ? 'block' : 'none';\n",
              "\n",
              "      async function convertToInteractive(key) {\n",
              "        const element = document.querySelector('#df-72aad39b-cbd0-40e0-906a-842c97054c4a');\n",
              "        const dataTable =\n",
              "          await google.colab.kernel.invokeFunction('convertToInteractive',\n",
              "                                                    [key], {});\n",
              "        if (!dataTable) return;\n",
              "\n",
              "        const docLinkHtml = 'Like what you see? Visit the ' +\n",
              "          '<a target=\"_blank\" href=https://colab.research.google.com/notebooks/data_table.ipynb>data table notebook</a>'\n",
              "          + ' to learn more about interactive tables.';\n",
              "        element.innerHTML = '';\n",
              "        dataTable['output_type'] = 'display_data';\n",
              "        await google.colab.output.renderOutput(dataTable, element);\n",
              "        const docLink = document.createElement('div');\n",
              "        docLink.innerHTML = docLinkHtml;\n",
              "        element.appendChild(docLink);\n",
              "      }\n",
              "    </script>\n",
              "  </div>\n",
              "\n",
              "\n",
              "<div id=\"df-080d13eb-524e-4eee-80f7-6c7caddba99e\">\n",
              "  <button class=\"colab-df-quickchart\" onclick=\"quickchart('df-080d13eb-524e-4eee-80f7-6c7caddba99e')\"\n",
              "            title=\"Suggest charts\"\n",
              "            style=\"display:none;\">\n",
              "\n",
              "<svg xmlns=\"http://www.w3.org/2000/svg\" height=\"24px\"viewBox=\"0 0 24 24\"\n",
              "     width=\"24px\">\n",
              "    <g>\n",
              "        <path d=\"M19 3H5c-1.1 0-2 .9-2 2v14c0 1.1.9 2 2 2h14c1.1 0 2-.9 2-2V5c0-1.1-.9-2-2-2zM9 17H7v-7h2v7zm4 0h-2V7h2v10zm4 0h-2v-4h2v4z\"/>\n",
              "    </g>\n",
              "</svg>\n",
              "  </button>\n",
              "\n",
              "<style>\n",
              "  .colab-df-quickchart {\n",
              "      --bg-color: #E8F0FE;\n",
              "      --fill-color: #1967D2;\n",
              "      --hover-bg-color: #E2EBFA;\n",
              "      --hover-fill-color: #174EA6;\n",
              "      --disabled-fill-color: #AAA;\n",
              "      --disabled-bg-color: #DDD;\n",
              "  }\n",
              "\n",
              "  [theme=dark] .colab-df-quickchart {\n",
              "      --bg-color: #3B4455;\n",
              "      --fill-color: #D2E3FC;\n",
              "      --hover-bg-color: #434B5C;\n",
              "      --hover-fill-color: #FFFFFF;\n",
              "      --disabled-bg-color: #3B4455;\n",
              "      --disabled-fill-color: #666;\n",
              "  }\n",
              "\n",
              "  .colab-df-quickchart {\n",
              "    background-color: var(--bg-color);\n",
              "    border: none;\n",
              "    border-radius: 50%;\n",
              "    cursor: pointer;\n",
              "    display: none;\n",
              "    fill: var(--fill-color);\n",
              "    height: 32px;\n",
              "    padding: 0;\n",
              "    width: 32px;\n",
              "  }\n",
              "\n",
              "  .colab-df-quickchart:hover {\n",
              "    background-color: var(--hover-bg-color);\n",
              "    box-shadow: 0 1px 2px rgba(60, 64, 67, 0.3), 0 1px 3px 1px rgba(60, 64, 67, 0.15);\n",
              "    fill: var(--button-hover-fill-color);\n",
              "  }\n",
              "\n",
              "  .colab-df-quickchart-complete:disabled,\n",
              "  .colab-df-quickchart-complete:disabled:hover {\n",
              "    background-color: var(--disabled-bg-color);\n",
              "    fill: var(--disabled-fill-color);\n",
              "    box-shadow: none;\n",
              "  }\n",
              "\n",
              "  .colab-df-spinner {\n",
              "    border: 2px solid var(--fill-color);\n",
              "    border-color: transparent;\n",
              "    border-bottom-color: var(--fill-color);\n",
              "    animation:\n",
              "      spin 1s steps(1) infinite;\n",
              "  }\n",
              "\n",
              "  @keyframes spin {\n",
              "    0% {\n",
              "      border-color: transparent;\n",
              "      border-bottom-color: var(--fill-color);\n",
              "      border-left-color: var(--fill-color);\n",
              "    }\n",
              "    20% {\n",
              "      border-color: transparent;\n",
              "      border-left-color: var(--fill-color);\n",
              "      border-top-color: var(--fill-color);\n",
              "    }\n",
              "    30% {\n",
              "      border-color: transparent;\n",
              "      border-left-color: var(--fill-color);\n",
              "      border-top-color: var(--fill-color);\n",
              "      border-right-color: var(--fill-color);\n",
              "    }\n",
              "    40% {\n",
              "      border-color: transparent;\n",
              "      border-right-color: var(--fill-color);\n",
              "      border-top-color: var(--fill-color);\n",
              "    }\n",
              "    60% {\n",
              "      border-color: transparent;\n",
              "      border-right-color: var(--fill-color);\n",
              "    }\n",
              "    80% {\n",
              "      border-color: transparent;\n",
              "      border-right-color: var(--fill-color);\n",
              "      border-bottom-color: var(--fill-color);\n",
              "    }\n",
              "    90% {\n",
              "      border-color: transparent;\n",
              "      border-bottom-color: var(--fill-color);\n",
              "    }\n",
              "  }\n",
              "</style>\n",
              "\n",
              "  <script>\n",
              "    async function quickchart(key) {\n",
              "      const quickchartButtonEl =\n",
              "        document.querySelector('#' + key + ' button');\n",
              "      quickchartButtonEl.disabled = true;  // To prevent multiple clicks.\n",
              "      quickchartButtonEl.classList.add('colab-df-spinner');\n",
              "      try {\n",
              "        const charts = await google.colab.kernel.invokeFunction(\n",
              "            'suggestCharts', [key], {});\n",
              "      } catch (error) {\n",
              "        console.error('Error during call to suggestCharts:', error);\n",
              "      }\n",
              "      quickchartButtonEl.classList.remove('colab-df-spinner');\n",
              "      quickchartButtonEl.classList.add('colab-df-quickchart-complete');\n",
              "    }\n",
              "    (() => {\n",
              "      let quickchartButtonEl =\n",
              "        document.querySelector('#df-080d13eb-524e-4eee-80f7-6c7caddba99e button');\n",
              "      quickchartButtonEl.style.display =\n",
              "        google.colab.kernel.accessAllowed ? 'block' : 'none';\n",
              "    })();\n",
              "  </script>\n",
              "</div>\n",
              "    </div>\n",
              "  </div>\n"
            ],
            "application/vnd.google.colaboratory.intrinsic+json": {
              "type": "dataframe",
              "variable_name": "data",
              "summary": "{\n  \"name\": \"data\",\n  \"rows\": 83448,\n  \"fields\": [\n    {\n      \"column\": \"label\",\n      \"properties\": {\n        \"dtype\": \"number\",\n        \"std\": 0,\n        \"min\": 0,\n        \"max\": 1,\n        \"num_unique_values\": 2,\n        \"samples\": [\n          0,\n          1\n        ],\n        \"semantic_type\": \"\",\n        \"description\": \"\"\n      }\n    },\n    {\n      \"column\": \"text\",\n      \"properties\": {\n        \"dtype\": \"string\",\n        \"num_unique_values\": 83446,\n        \"samples\": [\n          \"so hard that he can't find time to write to his friends escapenumberf take good care of him aescapenumber aescapenumber they also threatened to destroy fire away then since you are up commanded frank tell him without words so hard that he can't find time to write to his friends escapenumberf take good care of him so hard that he can't find time to write to his friends escapenumberf take good care of him bat's word was law in some things so molly had to submit and took boo away bow aescapenumber aescapenumberas if he had outgrown them and wanted something manlier he took to the hated as if he had outgrown them and wanted something manlier he took to the hated aescapenumber aescapenumberdown workwomen but wishes us to pay them well and economize in some other the house if you feel sociable and your evenings are always free come to me him near her and flapped her fan vigorously whenever he was in sight which with a bucket of water are not pleased for charlie is too presuming and you do need someone to help instantly laid away for repairs and its disappointed maker devoted his energies to helping aescapenumber aescapenumberhead wisely listening to my moral remarks mrs laurence and laurie paused for amy's aescapenumber escapelong how does she behave escapenumberf asked phebe longing for news but too grateful ants when their hill is disturbed of course half a dozen amiable souls posted to have you get thin and pale you know peggy was a jolly lass how beautiful it is cried fanny the drawer took up the little gray book which was her pride thinking christie when her hostess returned and found her warmed refreshed aescapenumber aescapenumber don't then emil who had got his breath by this time gave aescapenumber aescapenumberthen giving a great spring he shot through the air and landed safely anguish as she cried was himself again but it was evident that his sufferings were not smile and agile motion of every limb old ben carried the bag in one soon to tell her all about it you are your active life has done much in some ways to make a man warming and fill the kettle i'll see to the boy commanded mrs aescapenumber aescapenumberat work the sewing room was quite irresistible and he made himself aescapenumber aescapenumbereye showed that his love trials did not quite blind him to the comic aunt looked sober at first but he was so cool about it she couldn't from heart disease and the slightest excitement might kill us if pat while he curried lita till her coat shone like satin then drove is absent template better for it though the memory of it is still bitter and the cross aescapenumber aescapenumber i find don't be a with an unsparing hand institution had not yet made its rules as fixed as the laws of the medes aescapenumber aescapenumberuncle henry smiled and cuddled his little niece\",\n          \"bull market report lescapenumberkup adovcurrent escapenumber escapenumber day target price escapenumber escapelong steadily climb for the top this sym is gaining momentum adov have released very hot news check this out theorize and call to your brocker right now \"\n        ],\n        \"semantic_type\": \"\",\n        \"description\": \"\"\n      }\n    }\n  ]\n}"
            }
          },
          "metadata": {},
          "execution_count": 5
        }
      ],
      "source": [
        "# จัดเรียงข้อมูลแบบสวยงาม 10 แถวแรก\n",
        "data.head(10)"
      ]
    },
    {
      "cell_type": "code",
      "execution_count": null,
      "metadata": {
        "colab": {
          "base_uri": "https://localhost:8080/"
        },
        "id": "lk99UFUSvzvp",
        "outputId": "eb60b0ad-bb20-49a8-caa4-a872cb472c04"
      },
      "outputs": [
        {
          "output_type": "execute_result",
          "data": {
            "text/plain": [
              "label    0\n",
              "text     0\n",
              "dtype: int64"
            ]
          },
          "metadata": {},
          "execution_count": 6
        }
      ],
      "source": [
        "data.isnull().sum()"
      ]
    },
    {
      "cell_type": "code",
      "execution_count": null,
      "metadata": {
        "colab": {
          "base_uri": "https://localhost:8080/"
        },
        "id": "GYL8ZDjWvFKD",
        "outputId": "2731921d-a3bb-46f8-a8c7-3d44d8a6fe5f"
      },
      "outputs": [
        {
          "output_type": "stream",
          "name": "stdout",
          "text": [
            "length of data is 83448\n"
          ]
        }
      ],
      "source": [
        "#แสดงความยาวของข้อมูล\n",
        "print('length of data is',len(data))"
      ]
    },
    {
      "cell_type": "code",
      "execution_count": null,
      "metadata": {
        "id": "sHDqVMq-vSp4"
      },
      "outputs": [],
      "source": [
        "#ลดจำนวนข้อมูลให้น้อยลง\n",
        "data = data.sample(n=10000)"
      ]
    },
    {
      "cell_type": "code",
      "execution_count": null,
      "metadata": {
        "colab": {
          "base_uri": "https://localhost:8080/"
        },
        "id": "jIrtgXvFvw0R",
        "outputId": "eea72886-7c72-4d20-bdd9-b2b1f3464b34"
      },
      "outputs": [
        {
          "output_type": "stream",
          "name": "stdout",
          "text": [
            "length of data is 10000\n"
          ]
        }
      ],
      "source": [
        "#แสดงความยาวของข้อมูล\n",
        "print('length of data is',len(data))"
      ]
    },
    {
      "cell_type": "code",
      "source": [
        "#แสดงคอลัมน์ polarity\n",
        "data.label.value_counts()"
      ],
      "metadata": {
        "colab": {
          "base_uri": "https://localhost:8080/"
        },
        "id": "rQqL9QLfCPzU",
        "outputId": "c219c014-3baa-4982-a0b4-1062c9a5e6a1"
      },
      "execution_count": null,
      "outputs": [
        {
          "output_type": "execute_result",
          "data": {
            "text/plain": [
              "1    5215\n",
              "0    4785\n",
              "Name: label, dtype: int64"
            ]
          },
          "metadata": {},
          "execution_count": 10
        }
      ]
    },
    {
      "cell_type": "code",
      "execution_count": null,
      "metadata": {
        "colab": {
          "base_uri": "https://localhost:8080/"
        },
        "id": "sRhxljSeaT5S",
        "outputId": "4756811f-751b-4879-85dd-ddef150405f8"
      },
      "outputs": [
        {
          "output_type": "execute_result",
          "data": {
            "text/plain": [
              "Index(['label', 'text'], dtype='object')"
            ]
          },
          "metadata": {},
          "execution_count": 11
        }
      ],
      "source": [
        "data.columns"
      ]
    },
    {
      "cell_type": "code",
      "source": [
        "# ทำการลบข้อมูลซ้ำซ้อน\n",
        "data = data.drop_duplicates()"
      ],
      "metadata": {
        "id": "eLpFRT4DaP6l"
      },
      "execution_count": null,
      "outputs": []
    },
    {
      "cell_type": "code",
      "source": [
        "# คำนวณความยาวของข้อความแต่ละข้อความ\n",
        "data['text_length'] = data['text'].apply(len)"
      ],
      "metadata": {
        "id": "dt4DGkVDaQjy"
      },
      "execution_count": null,
      "outputs": []
    },
    {
      "cell_type": "code",
      "source": [
        "# ทำความสะอาดข้อความโดยลบตัวอักษรที่ไม่เป็นตัวอักษรและแปลงเป็นตัวพิมพ์เล็กทั้งหมด\n",
        "import re\n",
        "def clean_text(text):\n",
        "    text = re.sub(r'[^a-zA-Z\\s]', '', text)\n",
        "    text = text.lower()\n",
        "    return text\n",
        "\n",
        "data['clean_text'] = data['text'].apply(clean_text)"
      ],
      "metadata": {
        "id": "3JKiTmLFah8p"
      },
      "execution_count": null,
      "outputs": []
    },
    {
      "cell_type": "code",
      "source": [
        "# ตัดคำและลบ stopwords ออกจากข้อความ\n",
        "from nltk.corpus import stopwords\n",
        "from nltk.tokenize import word_tokenize\n",
        "import nltk\n",
        "nltk.download('stopwords')\n",
        "nltk.download('punkt')\n",
        "from nltk.corpus import stopwords\n",
        "from nltk.tokenize import word_tokenize\n",
        "\n",
        "stop_words = set(stopwords.words('english'))\n",
        "def tokenize_and_remove_stopwords(text):\n",
        "    tokens = word_tokenize(text)\n",
        "    tokens = [word for word in tokens if word not in stop_words]\n",
        "    return tokens\n",
        "\n",
        "data['tokens'] = data['clean_text'].apply(tokenize_and_remove_stopwords)"
      ],
      "metadata": {
        "colab": {
          "base_uri": "https://localhost:8080/"
        },
        "id": "6oEx-kQ8ajMd",
        "outputId": "9aa3a68a-a08e-405f-ae62-2bf4be549172"
      },
      "execution_count": null,
      "outputs": [
        {
          "output_type": "stream",
          "name": "stderr",
          "text": [
            "[nltk_data] Downloading package stopwords to /root/nltk_data...\n",
            "[nltk_data]   Unzipping corpora/stopwords.zip.\n",
            "[nltk_data] Downloading package punkt to /root/nltk_data...\n",
            "[nltk_data]   Unzipping tokenizers/punkt.zip.\n"
          ]
        }
      ]
    },
    {
      "cell_type": "code",
      "source": [
        "#แสดงขนาดความยาวของข้อมูล\n",
        "print('length of data is', len(data))"
      ],
      "metadata": {
        "colab": {
          "base_uri": "https://localhost:8080/"
        },
        "id": "uOAZR1sMaldG",
        "outputId": "ad88bae8-0b87-415c-9c0b-595f9513ba99"
      },
      "execution_count": null,
      "outputs": [
        {
          "output_type": "stream",
          "name": "stdout",
          "text": [
            "length of data is 10000\n"
          ]
        }
      ]
    },
    {
      "cell_type": "code",
      "source": [
        "# จัดเรียงข้อมูลแบบสวยงาม 10 แถวแรก\n",
        "data.head(10)"
      ],
      "metadata": {
        "colab": {
          "base_uri": "https://localhost:8080/",
          "height": 554
        },
        "id": "eZ0Z2h_2axtl",
        "outputId": "11755370-a423-4805-b5c2-dacebf33c875"
      },
      "execution_count": null,
      "outputs": [
        {
          "output_type": "execute_result",
          "data": {
            "text/plain": [
              "       label                                               text  text_length  \\\n",
              "11077      0  start date : 1 / 6 / 02 ; hourahead hour : 10 ...          496   \n",
              "16974      0  alert name bush new war funding bill unaccepta...          873   \n",
              "82594      1  after all the genuine stuff escapenumber with ...          903   \n",
              "56791      0  alert name bush white house visitor logs exemp...          930   \n",
              "41539      1  dear valued member if you are buying drugs on ...          716   \n",
              "35030      1  Â ÂÂ© ÂÂ© Â Â Âe ÂeÂ ÂÂ¦ ÂÃ¶ ÂÃ¶ Â...          271   \n",
              "56606      1  total number of overweight adults escapenumber...         2700   \n",
              "76976      1  it is going to break out camp aign for chvccur...          245   \n",
              "6977       1  the internet sector is hot again sea rch for c...          253   \n",
              "16936      1  the best all new adult dating site on the net ...         2480   \n",
              "\n",
              "                                              clean_text  \\\n",
              "11077  start date        hourahead hour    no ancilla...   \n",
              "16974  alert name bush new war funding bill unaccepta...   \n",
              "82594  after all the genuine stuff escapenumber with ...   \n",
              "56791  alert name bush white house visitor logs exemp...   \n",
              "41539  dear valued member if you are buying drugs on ...   \n",
              "35030       e e     zmb  e mailfhttp gjsg com neko   ...   \n",
              "56606  total number of overweight adults escapenumber...   \n",
              "76976  it is going to break out camp aign for chvccur...   \n",
              "6977   the internet sector is hot again sea rch for c...   \n",
              "16936  the best all new adult dating site on the net ...   \n",
              "\n",
              "                                                  tokens  \n",
              "11077  [start, date, hourahead, hour, ancillary, sche...  \n",
              "16974  [alert, name, bush, new, war, funding, bill, u...  \n",
              "82594  [genuine, stuff, escapenumber, ripoffs, p, e, ...  \n",
              "56791  [alert, name, bush, white, house, visitor, log...  \n",
              "41539  [dear, valued, member, buying, drugs, web, fre...  \n",
              "35030  [e, e, zmb, e, mailfhttp, gjsg, com, neko, mil...  \n",
              "56606  [total, number, overweight, adults, escapenumb...  \n",
              "76976  [going, break, camp, aign, chvccurrent, escape...  \n",
              "6977   [internet, sector, hot, sea, rch, chvccurrent,...  \n",
              "16936  [best, new, adult, dating, site, net, check, y...  "
            ],
            "text/html": [
              "\n",
              "  <div id=\"df-4d17605a-9fc7-4d0f-8357-5b305b4df4b0\" class=\"colab-df-container\">\n",
              "    <div>\n",
              "<style scoped>\n",
              "    .dataframe tbody tr th:only-of-type {\n",
              "        vertical-align: middle;\n",
              "    }\n",
              "\n",
              "    .dataframe tbody tr th {\n",
              "        vertical-align: top;\n",
              "    }\n",
              "\n",
              "    .dataframe thead th {\n",
              "        text-align: right;\n",
              "    }\n",
              "</style>\n",
              "<table border=\"1\" class=\"dataframe\">\n",
              "  <thead>\n",
              "    <tr style=\"text-align: right;\">\n",
              "      <th></th>\n",
              "      <th>label</th>\n",
              "      <th>text</th>\n",
              "      <th>text_length</th>\n",
              "      <th>clean_text</th>\n",
              "      <th>tokens</th>\n",
              "    </tr>\n",
              "  </thead>\n",
              "  <tbody>\n",
              "    <tr>\n",
              "      <th>11077</th>\n",
              "      <td>0</td>\n",
              "      <td>start date : 1 / 6 / 02 ; hourahead hour : 10 ...</td>\n",
              "      <td>496</td>\n",
              "      <td>start date        hourahead hour    no ancilla...</td>\n",
              "      <td>[start, date, hourahead, hour, ancillary, sche...</td>\n",
              "    </tr>\n",
              "    <tr>\n",
              "      <th>16974</th>\n",
              "      <td>0</td>\n",
              "      <td>alert name bush new war funding bill unaccepta...</td>\n",
              "      <td>873</td>\n",
              "      <td>alert name bush new war funding bill unaccepta...</td>\n",
              "      <td>[alert, name, bush, new, war, funding, bill, u...</td>\n",
              "    </tr>\n",
              "    <tr>\n",
              "      <th>82594</th>\n",
              "      <td>1</td>\n",
              "      <td>after all the genuine stuff escapenumber with ...</td>\n",
              "      <td>903</td>\n",
              "      <td>after all the genuine stuff escapenumber with ...</td>\n",
              "      <td>[genuine, stuff, escapenumber, ripoffs, p, e, ...</td>\n",
              "    </tr>\n",
              "    <tr>\n",
              "      <th>56791</th>\n",
              "      <td>0</td>\n",
              "      <td>alert name bush white house visitor logs exemp...</td>\n",
              "      <td>930</td>\n",
              "      <td>alert name bush white house visitor logs exemp...</td>\n",
              "      <td>[alert, name, bush, white, house, visitor, log...</td>\n",
              "    </tr>\n",
              "    <tr>\n",
              "      <th>41539</th>\n",
              "      <td>1</td>\n",
              "      <td>dear valued member if you are buying drugs on ...</td>\n",
              "      <td>716</td>\n",
              "      <td>dear valued member if you are buying drugs on ...</td>\n",
              "      <td>[dear, valued, member, buying, drugs, web, fre...</td>\n",
              "    </tr>\n",
              "    <tr>\n",
              "      <th>35030</th>\n",
              "      <td>1</td>\n",
              "      <td>Â ÂÂ© ÂÂ© Â Â Âe ÂeÂ ÂÂ¦ ÂÃ¶ ÂÃ¶ Â...</td>\n",
              "      <td>271</td>\n",
              "      <td>e e     zmb  e mailfhttp gjsg com neko   ...</td>\n",
              "      <td>[e, e, zmb, e, mailfhttp, gjsg, com, neko, mil...</td>\n",
              "    </tr>\n",
              "    <tr>\n",
              "      <th>56606</th>\n",
              "      <td>1</td>\n",
              "      <td>total number of overweight adults escapenumber...</td>\n",
              "      <td>2700</td>\n",
              "      <td>total number of overweight adults escapenumber...</td>\n",
              "      <td>[total, number, overweight, adults, escapenumb...</td>\n",
              "    </tr>\n",
              "    <tr>\n",
              "      <th>76976</th>\n",
              "      <td>1</td>\n",
              "      <td>it is going to break out camp aign for chvccur...</td>\n",
              "      <td>245</td>\n",
              "      <td>it is going to break out camp aign for chvccur...</td>\n",
              "      <td>[going, break, camp, aign, chvccurrent, escape...</td>\n",
              "    </tr>\n",
              "    <tr>\n",
              "      <th>6977</th>\n",
              "      <td>1</td>\n",
              "      <td>the internet sector is hot again sea rch for c...</td>\n",
              "      <td>253</td>\n",
              "      <td>the internet sector is hot again sea rch for c...</td>\n",
              "      <td>[internet, sector, hot, sea, rch, chvccurrent,...</td>\n",
              "    </tr>\n",
              "    <tr>\n",
              "      <th>16936</th>\n",
              "      <td>1</td>\n",
              "      <td>the best all new adult dating site on the net ...</td>\n",
              "      <td>2480</td>\n",
              "      <td>the best all new adult dating site on the net ...</td>\n",
              "      <td>[best, new, adult, dating, site, net, check, y...</td>\n",
              "    </tr>\n",
              "  </tbody>\n",
              "</table>\n",
              "</div>\n",
              "    <div class=\"colab-df-buttons\">\n",
              "\n",
              "  <div class=\"colab-df-container\">\n",
              "    <button class=\"colab-df-convert\" onclick=\"convertToInteractive('df-4d17605a-9fc7-4d0f-8357-5b305b4df4b0')\"\n",
              "            title=\"Convert this dataframe to an interactive table.\"\n",
              "            style=\"display:none;\">\n",
              "\n",
              "  <svg xmlns=\"http://www.w3.org/2000/svg\" height=\"24px\" viewBox=\"0 -960 960 960\">\n",
              "    <path d=\"M120-120v-720h720v720H120Zm60-500h600v-160H180v160Zm220 220h160v-160H400v160Zm0 220h160v-160H400v160ZM180-400h160v-160H180v160Zm440 0h160v-160H620v160ZM180-180h160v-160H180v160Zm440 0h160v-160H620v160Z\"/>\n",
              "  </svg>\n",
              "    </button>\n",
              "\n",
              "  <style>\n",
              "    .colab-df-container {\n",
              "      display:flex;\n",
              "      gap: 12px;\n",
              "    }\n",
              "\n",
              "    .colab-df-convert {\n",
              "      background-color: #E8F0FE;\n",
              "      border: none;\n",
              "      border-radius: 50%;\n",
              "      cursor: pointer;\n",
              "      display: none;\n",
              "      fill: #1967D2;\n",
              "      height: 32px;\n",
              "      padding: 0 0 0 0;\n",
              "      width: 32px;\n",
              "    }\n",
              "\n",
              "    .colab-df-convert:hover {\n",
              "      background-color: #E2EBFA;\n",
              "      box-shadow: 0px 1px 2px rgba(60, 64, 67, 0.3), 0px 1px 3px 1px rgba(60, 64, 67, 0.15);\n",
              "      fill: #174EA6;\n",
              "    }\n",
              "\n",
              "    .colab-df-buttons div {\n",
              "      margin-bottom: 4px;\n",
              "    }\n",
              "\n",
              "    [theme=dark] .colab-df-convert {\n",
              "      background-color: #3B4455;\n",
              "      fill: #D2E3FC;\n",
              "    }\n",
              "\n",
              "    [theme=dark] .colab-df-convert:hover {\n",
              "      background-color: #434B5C;\n",
              "      box-shadow: 0px 1px 3px 1px rgba(0, 0, 0, 0.15);\n",
              "      filter: drop-shadow(0px 1px 2px rgba(0, 0, 0, 0.3));\n",
              "      fill: #FFFFFF;\n",
              "    }\n",
              "  </style>\n",
              "\n",
              "    <script>\n",
              "      const buttonEl =\n",
              "        document.querySelector('#df-4d17605a-9fc7-4d0f-8357-5b305b4df4b0 button.colab-df-convert');\n",
              "      buttonEl.style.display =\n",
              "        google.colab.kernel.accessAllowed ? 'block' : 'none';\n",
              "\n",
              "      async function convertToInteractive(key) {\n",
              "        const element = document.querySelector('#df-4d17605a-9fc7-4d0f-8357-5b305b4df4b0');\n",
              "        const dataTable =\n",
              "          await google.colab.kernel.invokeFunction('convertToInteractive',\n",
              "                                                    [key], {});\n",
              "        if (!dataTable) return;\n",
              "\n",
              "        const docLinkHtml = 'Like what you see? Visit the ' +\n",
              "          '<a target=\"_blank\" href=https://colab.research.google.com/notebooks/data_table.ipynb>data table notebook</a>'\n",
              "          + ' to learn more about interactive tables.';\n",
              "        element.innerHTML = '';\n",
              "        dataTable['output_type'] = 'display_data';\n",
              "        await google.colab.output.renderOutput(dataTable, element);\n",
              "        const docLink = document.createElement('div');\n",
              "        docLink.innerHTML = docLinkHtml;\n",
              "        element.appendChild(docLink);\n",
              "      }\n",
              "    </script>\n",
              "  </div>\n",
              "\n",
              "\n",
              "<div id=\"df-622d6c5b-8c58-46b1-b2d7-735e249c1772\">\n",
              "  <button class=\"colab-df-quickchart\" onclick=\"quickchart('df-622d6c5b-8c58-46b1-b2d7-735e249c1772')\"\n",
              "            title=\"Suggest charts\"\n",
              "            style=\"display:none;\">\n",
              "\n",
              "<svg xmlns=\"http://www.w3.org/2000/svg\" height=\"24px\"viewBox=\"0 0 24 24\"\n",
              "     width=\"24px\">\n",
              "    <g>\n",
              "        <path d=\"M19 3H5c-1.1 0-2 .9-2 2v14c0 1.1.9 2 2 2h14c1.1 0 2-.9 2-2V5c0-1.1-.9-2-2-2zM9 17H7v-7h2v7zm4 0h-2V7h2v10zm4 0h-2v-4h2v4z\"/>\n",
              "    </g>\n",
              "</svg>\n",
              "  </button>\n",
              "\n",
              "<style>\n",
              "  .colab-df-quickchart {\n",
              "      --bg-color: #E8F0FE;\n",
              "      --fill-color: #1967D2;\n",
              "      --hover-bg-color: #E2EBFA;\n",
              "      --hover-fill-color: #174EA6;\n",
              "      --disabled-fill-color: #AAA;\n",
              "      --disabled-bg-color: #DDD;\n",
              "  }\n",
              "\n",
              "  [theme=dark] .colab-df-quickchart {\n",
              "      --bg-color: #3B4455;\n",
              "      --fill-color: #D2E3FC;\n",
              "      --hover-bg-color: #434B5C;\n",
              "      --hover-fill-color: #FFFFFF;\n",
              "      --disabled-bg-color: #3B4455;\n",
              "      --disabled-fill-color: #666;\n",
              "  }\n",
              "\n",
              "  .colab-df-quickchart {\n",
              "    background-color: var(--bg-color);\n",
              "    border: none;\n",
              "    border-radius: 50%;\n",
              "    cursor: pointer;\n",
              "    display: none;\n",
              "    fill: var(--fill-color);\n",
              "    height: 32px;\n",
              "    padding: 0;\n",
              "    width: 32px;\n",
              "  }\n",
              "\n",
              "  .colab-df-quickchart:hover {\n",
              "    background-color: var(--hover-bg-color);\n",
              "    box-shadow: 0 1px 2px rgba(60, 64, 67, 0.3), 0 1px 3px 1px rgba(60, 64, 67, 0.15);\n",
              "    fill: var(--button-hover-fill-color);\n",
              "  }\n",
              "\n",
              "  .colab-df-quickchart-complete:disabled,\n",
              "  .colab-df-quickchart-complete:disabled:hover {\n",
              "    background-color: var(--disabled-bg-color);\n",
              "    fill: var(--disabled-fill-color);\n",
              "    box-shadow: none;\n",
              "  }\n",
              "\n",
              "  .colab-df-spinner {\n",
              "    border: 2px solid var(--fill-color);\n",
              "    border-color: transparent;\n",
              "    border-bottom-color: var(--fill-color);\n",
              "    animation:\n",
              "      spin 1s steps(1) infinite;\n",
              "  }\n",
              "\n",
              "  @keyframes spin {\n",
              "    0% {\n",
              "      border-color: transparent;\n",
              "      border-bottom-color: var(--fill-color);\n",
              "      border-left-color: var(--fill-color);\n",
              "    }\n",
              "    20% {\n",
              "      border-color: transparent;\n",
              "      border-left-color: var(--fill-color);\n",
              "      border-top-color: var(--fill-color);\n",
              "    }\n",
              "    30% {\n",
              "      border-color: transparent;\n",
              "      border-left-color: var(--fill-color);\n",
              "      border-top-color: var(--fill-color);\n",
              "      border-right-color: var(--fill-color);\n",
              "    }\n",
              "    40% {\n",
              "      border-color: transparent;\n",
              "      border-right-color: var(--fill-color);\n",
              "      border-top-color: var(--fill-color);\n",
              "    }\n",
              "    60% {\n",
              "      border-color: transparent;\n",
              "      border-right-color: var(--fill-color);\n",
              "    }\n",
              "    80% {\n",
              "      border-color: transparent;\n",
              "      border-right-color: var(--fill-color);\n",
              "      border-bottom-color: var(--fill-color);\n",
              "    }\n",
              "    90% {\n",
              "      border-color: transparent;\n",
              "      border-bottom-color: var(--fill-color);\n",
              "    }\n",
              "  }\n",
              "</style>\n",
              "\n",
              "  <script>\n",
              "    async function quickchart(key) {\n",
              "      const quickchartButtonEl =\n",
              "        document.querySelector('#' + key + ' button');\n",
              "      quickchartButtonEl.disabled = true;  // To prevent multiple clicks.\n",
              "      quickchartButtonEl.classList.add('colab-df-spinner');\n",
              "      try {\n",
              "        const charts = await google.colab.kernel.invokeFunction(\n",
              "            'suggestCharts', [key], {});\n",
              "      } catch (error) {\n",
              "        console.error('Error during call to suggestCharts:', error);\n",
              "      }\n",
              "      quickchartButtonEl.classList.remove('colab-df-spinner');\n",
              "      quickchartButtonEl.classList.add('colab-df-quickchart-complete');\n",
              "    }\n",
              "    (() => {\n",
              "      let quickchartButtonEl =\n",
              "        document.querySelector('#df-622d6c5b-8c58-46b1-b2d7-735e249c1772 button');\n",
              "      quickchartButtonEl.style.display =\n",
              "        google.colab.kernel.accessAllowed ? 'block' : 'none';\n",
              "    })();\n",
              "  </script>\n",
              "</div>\n",
              "    </div>\n",
              "  </div>\n"
            ],
            "application/vnd.google.colaboratory.intrinsic+json": {
              "type": "dataframe",
              "variable_name": "data",
              "summary": "{\n  \"name\": \"data\",\n  \"rows\": 10000,\n  \"fields\": [\n    {\n      \"column\": \"label\",\n      \"properties\": {\n        \"dtype\": \"number\",\n        \"std\": 0,\n        \"min\": 0,\n        \"max\": 1,\n        \"num_unique_values\": 2,\n        \"samples\": [\n          1,\n          0\n        ],\n        \"semantic_type\": \"\",\n        \"description\": \"\"\n      }\n    },\n    {\n      \"column\": \"text\",\n      \"properties\": {\n        \"dtype\": \"string\",\n        \"num_unique_values\": 10000,\n        \"samples\": [\n          \"billy makes contact with jim a dj at radio kaos a renegade rock far as i k now and what i am doing within it as a part of it so to become a part of society despite the exponential growth of implies that companies will ha ve greater flexibility in regards integration what will be the dominant culture adapted by all internet imagination will flourish as they try to grasp the as individuals the age of technology affects each person in the hydro bill when you spend all of y our time in v r and answer the country with contemporary technology and culture me that comp uter he had said that he was going to upgrade to a consider these as works of art just as the traditional canvas conventional forms new technology provides capabilities to be console giggle stick ling cod twenty three purple perches four computer te chnology has yet to offer the contemporary artist robo dogs and robo c ats that responds to human voices a companion is augmenting the elimination of office as the workplace people through around the term interactive in order to confuse people of desire d clothing then ones appearance will be viewed in a american culture t he systems policies and attitudes that put substitutable occupations will be diminishing operators and the term 'virtual reality' isn't used sparingly and that 'the communicatio n systems the unity that is created by the exchange would be a store sales person or assistant one will be able to computer screen accomplishing not hing to sitting long hours of for this long because of its' name which sounds sufficiently keyboard and screen it is hard to predict what the outcome of conversation there is no bus route for the internet and you with the computer are dizziness headac hes and eyestrain these is through the creation of artificial life that researchers resolution on printouts will be as clear as photos and that virtual paul reveres the v irtual exaggerators the virtual loss of democratic control and personal in dependence into a possibilities that are unimaginative to human thinking lighting a les ser known physical problem is known as repetitive jobs compensating for th e lost occupations that were replaced by endlessly rehashing itself peopl e have always exaggerated with far as i know and what i am doing within it as a part of it so how i coul d use computers in my art making process as it turns deal on virtual reali ty is and i told him more or less that it\",\n          \"hi there kirk just curious tried to get the debian floppies containing speakup and thought i got the listing for them i can't download them anything i should be doing i'm using standard ftp from a dos prompt thanks much email services by freedombox surf the net at the sound of your voice www freedombox info speakup mailing list speakup braille uwo ca http speech braille uwo ca mailman listinfo speakup\"\n        ],\n        \"semantic_type\": \"\",\n        \"description\": \"\"\n      }\n    },\n    {\n      \"column\": \"text_length\",\n      \"properties\": {\n        \"dtype\": \"number\",\n        \"std\": 4360,\n        \"min\": 4,\n        \"max\": 228353,\n        \"num_unique_values\": 3559,\n        \"samples\": [\n          4159,\n          1543\n        ],\n        \"semantic_type\": \"\",\n        \"description\": \"\"\n      }\n    },\n    {\n      \"column\": \"clean_text\",\n      \"properties\": {\n        \"dtype\": \"string\",\n        \"num_unique_values\": 9861,\n        \"samples\": [\n          \" new ticket created by steve peters please include the string perl escapenumber in the subject line of all future correspondence about this issue the attached patch gets parrot partially compiles with c g actually this work gets the compile going through the start of the imcc compiler expect part two to get it the rest of the way tomorrow steve peters steve fisharerojo org\",\n          \"videos enrichmentof philadelphia pennsylvania heres some soothing jennif er gervasio for many children dear client dou you have any difficulties with the length of your mojo is your e ual partner not pleased in xxi century nothing could be unrealizable advanced specialist from usa has developed special patch that can ex tend the size of your phallus till escapenumber cm it depends on your wish save your time and money hurry to us order the patch with the other kids one day a week for now have the resources \"\n        ],\n        \"semantic_type\": \"\",\n        \"description\": \"\"\n      }\n    },\n    {\n      \"column\": \"tokens\",\n      \"properties\": {\n        \"dtype\": \"object\",\n        \"semantic_type\": \"\",\n        \"description\": \"\"\n      }\n    }\n  ]\n}"
            }
          },
          "metadata": {},
          "execution_count": 17
        }
      ]
    },
    {
      "cell_type": "code",
      "execution_count": null,
      "metadata": {
        "id": "Mp_9kj7lc4J4"
      },
      "outputs": [],
      "source": [
        "data.to_csv('/content/drive/My Drive/Dataset/dataset.csv', index=False)"
      ]
    },
    {
      "cell_type": "code",
      "execution_count": null,
      "metadata": {
        "id": "AL2WAN4MSE3j"
      },
      "outputs": [],
      "source": [
        "from sklearn.model_selection import train_test_split"
      ]
    },
    {
      "cell_type": "code",
      "execution_count": null,
      "metadata": {
        "id": "hbU9f2ZbbYXM"
      },
      "outputs": [],
      "source": [
        "# แบ่งข้อมูลเป็น X และ y\n",
        "X = data['tokens'].apply(lambda x: ' '.join(x))\n",
        "y = data['label']"
      ]
    },
    {
      "cell_type": "code",
      "execution_count": null,
      "metadata": {
        "id": "19MMqXdlbaRd"
      },
      "outputs": [],
      "source": [
        "# แบ่งชุดข้อมูลเป็น training set และ testing set โดยให้ testing set มีขนาด 20%\n",
        "X_train, X_test, y_train, y_test = train_test_split(X, y, test_size=0.2, random_state=42)"
      ]
    },
    {
      "cell_type": "code",
      "execution_count": null,
      "metadata": {
        "id": "yHljygsJjQW6"
      },
      "outputs": [],
      "source": [
        "# สร้างเวกเตอร์คุณลักษณะโดยใช้ CountVectorizer\n",
        "vectorizer = CountVectorizer()\n",
        "X_train_vectorized = vectorizer.fit_transform(X_train)\n",
        "X_test_vectorized = vectorizer.transform(X_test)"
      ]
    },
    {
      "cell_type": "code",
      "execution_count": null,
      "metadata": {
        "id": "qkS9VvdMmmVG"
      },
      "outputs": [],
      "source": [
        "# สร้างและประเมินโมเดล SVM\n",
        "svm_model = SVC()\n",
        "svm_scores = cross_val_score(svm_model, X_train_vectorized, y_train, cv=5)"
      ]
    },
    {
      "cell_type": "code",
      "execution_count": null,
      "metadata": {
        "id": "CErUhKhxmuwn"
      },
      "outputs": [],
      "source": [
        "# สร้างและประเมินโมเดล ANN\n",
        "ann_model = MLPClassifier()\n",
        "ann_scores = cross_val_score(ann_model, X_train_vectorized, y_train, cv=5)"
      ]
    },
    {
      "cell_type": "code",
      "source": [
        "# สร้างและประเมินโมเดล Naive Bayes\n",
        "nb_model = MultinomialNB()\n",
        "nb_scores = cross_val_score(nb_model, X_train_vectorized, y_train, cv=5)"
      ],
      "metadata": {
        "id": "_FPF6b87_7gO"
      },
      "execution_count": null,
      "outputs": []
    },
    {
      "cell_type": "code",
      "source": [
        "# สร้างและประเมินโมเดล Logistic Regression\n",
        "lr_model = LogisticRegression(max_iter=1000)\n",
        "lr_scores = cross_val_score(lr_model, X_train_vectorized, y_train, cv=5)"
      ],
      "metadata": {
        "id": "fHrHxtnK_-2G"
      },
      "execution_count": null,
      "outputs": []
    },
    {
      "cell_type": "code",
      "source": [
        "# สร้างและประเมินโมเดล K-Nearest Neighbors (KNN)\n",
        "knn_model = KNeighborsClassifier()\n",
        "knn_scores = cross_val_score(knn_model, X_train_vectorized, y_train, cv=5)"
      ],
      "metadata": {
        "id": "JxNEsszVACIV"
      },
      "execution_count": null,
      "outputs": []
    },
    {
      "cell_type": "code",
      "execution_count": null,
      "metadata": {
        "id": "ElDgQ3ctmvhm",
        "colab": {
          "base_uri": "https://localhost:8080/"
        },
        "outputId": "46c192e4-1890-4d5d-b625-74c401cf78b6"
      },
      "outputs": [
        {
          "output_type": "stream",
          "name": "stdout",
          "text": [
            "SVM Cross Validation Scores: [0.853125 0.820625 0.854375 0.843125 0.84    ]\n",
            "ANN Cross Validation Scores: [0.97125  0.968125 0.97125  0.97     0.97625 ]\n",
            "Naive Bayes Cross Validation Scores: [0.97     0.970625 0.961875 0.970625 0.965625]\n",
            "Logistic Regression Cross Validation Scores: [0.975625 0.963125 0.969375 0.963125 0.971875]\n",
            "K-Nearest Neighbors (KNN) Cross Validation Scores: [0.87125  0.855    0.86375  0.855625 0.8825  ]\n"
          ]
        }
      ],
      "source": [
        "# แสดงผลคะแนน cross validation score ของแต่ละโมเดล\n",
        "print(\"SVM Cross Validation Scores:\", svm_scores)\n",
        "print(\"ANN Cross Validation Scores:\", ann_scores)\n",
        "print(\"Naive Bayes Cross Validation Scores:\", nb_scores)\n",
        "print(\"Logistic Regression Cross Validation Scores:\", lr_scores)\n",
        "print(\"K-Nearest Neighbors (KNN) Cross Validation Scores:\", knn_scores)"
      ]
    },
    {
      "cell_type": "markdown",
      "source": [
        "# 3. การประเมินโมเดล (Model Evaluation)"
      ],
      "metadata": {
        "id": "9IOlwAuv_TEr"
      }
    },
    {
      "cell_type": "markdown",
      "source": [
        "####SVM"
      ],
      "metadata": {
        "id": "1VlIAqbZ_XoC"
      }
    },
    {
      "cell_type": "code",
      "source": [
        "from sklearn.metrics import classification_report, confusion_matrix\n",
        "# ประเมินโมเดล SVM\n",
        "svm_model.fit(X_train_vectorized, y_train)\n",
        "svm_predictions = svm_model.predict(X_test_vectorized)"
      ],
      "metadata": {
        "id": "KRgy-jWIziz4"
      },
      "execution_count": null,
      "outputs": []
    },
    {
      "cell_type": "code",
      "source": [
        "# แสดงค่า Classification Report\n",
        "print(\"SVM Classification Report:\")\n",
        "print(classification_report(y_test, svm_predictions))"
      ],
      "metadata": {
        "colab": {
          "base_uri": "https://localhost:8080/"
        },
        "id": "H2zSUlHz_bX9",
        "outputId": "4205118b-e0d8-4d17-8340-1cf369d4dde1"
      },
      "execution_count": null,
      "outputs": [
        {
          "output_type": "stream",
          "name": "stdout",
          "text": [
            "SVM Classification Report:\n",
            "              precision    recall  f1-score   support\n",
            "\n",
            "           0       0.98      0.70      0.82       965\n",
            "           1       0.78      0.99      0.87      1035\n",
            "\n",
            "    accuracy                           0.85      2000\n",
            "   macro avg       0.88      0.84      0.84      2000\n",
            "weighted avg       0.88      0.85      0.84      2000\n",
            "\n"
          ]
        }
      ]
    },
    {
      "cell_type": "code",
      "source": [
        "# แสดงค่า Confusion Matrix\n",
        "svm_conf_matrix = confusion_matrix(y_test, svm_predictions)\n",
        "print(\"SVM Confusion Matrix:\")\n",
        "print(svm_conf_matrix)"
      ],
      "metadata": {
        "colab": {
          "base_uri": "https://localhost:8080/"
        },
        "id": "VMGz3YV8_cWF",
        "outputId": "c42fbf23-bf35-4a01-eb90-54bc8697ba8c"
      },
      "execution_count": null,
      "outputs": [
        {
          "output_type": "stream",
          "name": "stdout",
          "text": [
            "SVM Confusion Matrix:\n",
            "[[ 673  292]\n",
            " [  13 1022]]\n"
          ]
        }
      ]
    },
    {
      "cell_type": "markdown",
      "source": [
        "####ANN"
      ],
      "metadata": {
        "id": "2iNdr42r_djM"
      }
    },
    {
      "cell_type": "code",
      "source": [
        "# ประเมินโมเดล ANN\n",
        "ann_model.fit(X_train_vectorized, y_train)\n",
        "ann_predictions = ann_model.predict(X_test_vectorized)"
      ],
      "metadata": {
        "id": "KlUVAF_T-36f"
      },
      "execution_count": null,
      "outputs": []
    },
    {
      "cell_type": "code",
      "source": [
        "# แสดงค่า Classification Report\n",
        "print(\"ANN Classification Report:\")\n",
        "print(classification_report(y_test, ann_predictions))"
      ],
      "metadata": {
        "colab": {
          "base_uri": "https://localhost:8080/"
        },
        "id": "webeGH3C_nWx",
        "outputId": "34214d14-d16e-41eb-9d4b-7890b9e6246a"
      },
      "execution_count": null,
      "outputs": [
        {
          "output_type": "stream",
          "name": "stdout",
          "text": [
            "ANN Classification Report:\n",
            "              precision    recall  f1-score   support\n",
            "\n",
            "           0       0.98      0.97      0.98       965\n",
            "           1       0.97      0.99      0.98      1035\n",
            "\n",
            "    accuracy                           0.98      2000\n",
            "   macro avg       0.98      0.98      0.98      2000\n",
            "weighted avg       0.98      0.98      0.98      2000\n",
            "\n"
          ]
        }
      ]
    },
    {
      "cell_type": "code",
      "source": [
        "# แสดงค่า Confusion Matrix\n",
        "ann_conf_matrix = confusion_matrix(y_test, ann_predictions)\n",
        "print(\"ANN Confusion Matrix:\")\n",
        "print(ann_conf_matrix)"
      ],
      "metadata": {
        "colab": {
          "base_uri": "https://localhost:8080/"
        },
        "id": "EjfMsb_w_ooM",
        "outputId": "35e3ada5-366e-4c4c-c4f4-13f07c4cde9a"
      },
      "execution_count": null,
      "outputs": [
        {
          "output_type": "stream",
          "name": "stdout",
          "text": [
            "ANN Confusion Matrix:\n",
            "[[ 937   28]\n",
            " [  15 1020]]\n"
          ]
        }
      ]
    },
    {
      "cell_type": "markdown",
      "source": [
        "####Naive Bayes"
      ],
      "metadata": {
        "id": "J79xQvnzAbn1"
      }
    },
    {
      "cell_type": "code",
      "source": [
        "# ประเมินโมเดล Naive Bayes\n",
        "nb_model.fit(X_train_vectorized, y_train)\n",
        "nb_predictions = nb_model.predict(X_test_vectorized)"
      ],
      "metadata": {
        "id": "sIaCSyuqAdTl"
      },
      "execution_count": null,
      "outputs": []
    },
    {
      "cell_type": "code",
      "source": [
        "# แสดงค่า Classification Report\n",
        "print(\"Classification Report for Naive Bayes:\")\n",
        "print(classification_report(y_test, nb_predictions))"
      ],
      "metadata": {
        "colab": {
          "base_uri": "https://localhost:8080/"
        },
        "id": "tfBFT1EGAgsb",
        "outputId": "4b038b66-b0d9-47cb-ad24-79f9171ce01b"
      },
      "execution_count": null,
      "outputs": [
        {
          "output_type": "stream",
          "name": "stdout",
          "text": [
            "Classification Report for Naive Bayes:\n",
            "              precision    recall  f1-score   support\n",
            "\n",
            "           0       0.96      0.99      0.97       965\n",
            "           1       0.99      0.96      0.97      1035\n",
            "\n",
            "    accuracy                           0.97      2000\n",
            "   macro avg       0.97      0.97      0.97      2000\n",
            "weighted avg       0.97      0.97      0.97      2000\n",
            "\n"
          ]
        }
      ]
    },
    {
      "cell_type": "code",
      "source": [
        "# แสดงค่า Confusion Matrix\n",
        "print(\"Confusion Matrix for Naive Bayes:\")\n",
        "print(confusion_matrix(y_test, nb_predictions))"
      ],
      "metadata": {
        "colab": {
          "base_uri": "https://localhost:8080/"
        },
        "id": "wwu5kRBiAh-8",
        "outputId": "6332f1d1-edb1-41f3-fa53-4a2eda21c8dc"
      },
      "execution_count": null,
      "outputs": [
        {
          "output_type": "stream",
          "name": "stdout",
          "text": [
            "Confusion Matrix for Naive Bayes:\n",
            "[[952  13]\n",
            " [ 43 992]]\n"
          ]
        }
      ]
    },
    {
      "cell_type": "markdown",
      "source": [
        "####Logistic Regression"
      ],
      "metadata": {
        "id": "cZumfrU3AkJI"
      }
    },
    {
      "cell_type": "code",
      "source": [
        "# ประเมินโมเดล Logistic Regression\n",
        "lr_model.fit(X_train_vectorized, y_train)\n",
        "lr_predictions = lr_model.predict(X_test_vectorized)"
      ],
      "metadata": {
        "id": "zTiy2bMJAmLa"
      },
      "execution_count": null,
      "outputs": []
    },
    {
      "cell_type": "code",
      "source": [
        "# แสดงค่า Classification Report\n",
        "print(\"Classification Report for Logistic Regression:\")\n",
        "print(classification_report(y_test, lr_predictions))"
      ],
      "metadata": {
        "colab": {
          "base_uri": "https://localhost:8080/"
        },
        "id": "9h6Dgl1wArtT",
        "outputId": "ecffc3c0-d21f-440e-868c-98c46598f9ff"
      },
      "execution_count": null,
      "outputs": [
        {
          "output_type": "stream",
          "name": "stdout",
          "text": [
            "Classification Report for Logistic Regression:\n",
            "              precision    recall  f1-score   support\n",
            "\n",
            "           0       0.99      0.97      0.98       965\n",
            "           1       0.97      0.99      0.98      1035\n",
            "\n",
            "    accuracy                           0.98      2000\n",
            "   macro avg       0.98      0.98      0.98      2000\n",
            "weighted avg       0.98      0.98      0.98      2000\n",
            "\n"
          ]
        }
      ]
    },
    {
      "cell_type": "code",
      "source": [
        "# แสดงค่า Confusion Matrix\n",
        "print(\"Confusion Matrix for Logistic Regression:\")\n",
        "print(confusion_matrix(y_test, lr_predictions))"
      ],
      "metadata": {
        "colab": {
          "base_uri": "https://localhost:8080/"
        },
        "id": "tAjZ25_qAs2k",
        "outputId": "c604bd55-537e-4abe-d68f-6a478d8ffef6"
      },
      "execution_count": null,
      "outputs": [
        {
          "output_type": "stream",
          "name": "stdout",
          "text": [
            "Confusion Matrix for Logistic Regression:\n",
            "[[ 932   33]\n",
            " [  10 1025]]\n"
          ]
        }
      ]
    },
    {
      "cell_type": "markdown",
      "source": [
        "####K-Nearest Neighbors (KNN)"
      ],
      "metadata": {
        "id": "us46bEvWAuVz"
      }
    },
    {
      "cell_type": "code",
      "source": [
        "# ประเมินโมเดล K-Nearest Neighbors (KNN)\n",
        "knn_model.fit(X_train_vectorized, y_train)\n",
        "knn_predictions = knn_model.predict(X_test_vectorized)"
      ],
      "metadata": {
        "id": "CjYjw2dZAvFn"
      },
      "execution_count": null,
      "outputs": []
    },
    {
      "cell_type": "code",
      "source": [
        "# แสดงค่า Classification Report\n",
        "print(\"Classification Report for K-Nearest Neighbors (KNN):\")\n",
        "print(classification_report(y_test, knn_predictions))"
      ],
      "metadata": {
        "colab": {
          "base_uri": "https://localhost:8080/"
        },
        "id": "AMaGAl7cAyVg",
        "outputId": "bb67fe3f-4637-454e-9b2d-cf9d94ca8cd5"
      },
      "execution_count": null,
      "outputs": [
        {
          "output_type": "stream",
          "name": "stdout",
          "text": [
            "Classification Report for K-Nearest Neighbors (KNN):\n",
            "              precision    recall  f1-score   support\n",
            "\n",
            "           0       0.95      0.77      0.85       965\n",
            "           1       0.82      0.96      0.88      1035\n",
            "\n",
            "    accuracy                           0.87      2000\n",
            "   macro avg       0.88      0.86      0.86      2000\n",
            "weighted avg       0.88      0.87      0.86      2000\n",
            "\n"
          ]
        }
      ]
    },
    {
      "cell_type": "code",
      "source": [
        "# แสดงค่า Confusion Matrix\n",
        "print(\"Confusion Matrix for K-Nearest Neighbors (KNN):\")\n",
        "print(confusion_matrix(y_test, knn_predictions))"
      ],
      "metadata": {
        "colab": {
          "base_uri": "https://localhost:8080/"
        },
        "id": "tbKlMEfKA1Kh",
        "outputId": "f6f36e59-f668-4901-ab8d-266a4574448d"
      },
      "execution_count": null,
      "outputs": [
        {
          "output_type": "stream",
          "name": "stdout",
          "text": [
            "Confusion Matrix for K-Nearest Neighbors (KNN):\n",
            "[[741 224]\n",
            " [ 43 992]]\n"
          ]
        }
      ]
    },
    {
      "cell_type": "markdown",
      "source": [
        "#4. การนำโมเดลไปใช้งาน (Deploy Model)"
      ],
      "metadata": {
        "id": "8n1eSZom_tWN"
      }
    },
    {
      "cell_type": "markdown",
      "source": [
        "####บันทึกโมเดลที่ดีกว่า"
      ],
      "metadata": {
        "id": "j1pyxk_d_wSU"
      }
    },
    {
      "cell_type": "code",
      "source": [
        "import pickle\n",
        "\n",
        "# บันทึกโมเดล ANN ที่ดีที่สุดด้วยไลบรารี pickle\n",
        "with open('/content/drive/MyDrive/Dataset/best_ann_model.pkl', 'wb') as file:\n",
        "    pickle.dump(svm_model, file)"
      ],
      "metadata": {
        "id": "rQnKpvpP6rrZ"
      },
      "execution_count": null,
      "outputs": []
    },
    {
      "cell_type": "markdown",
      "source": [
        "####ทดสอบโหลดโมเดลไปใช้งาน โดยการอ่านข้อมูลเข้ามา 1 ตัวอย่าง สกัดคุณลักษณะและทำนายผลลัพธ์"
      ],
      "metadata": {
        "id": "lyqjEbme_0W9"
      }
    },
    {
      "cell_type": "code",
      "source": [
        "# ทดสอบโหลดโมเดล ANN ที่บันทึกไว้\n",
        "loaded_ann_model = None\n",
        "with open('/content/drive/MyDrive/Dataset/best_ann_model.pkl', 'rb') as file:\n",
        "    loaded_ann_model = pickle.load(file)"
      ],
      "metadata": {
        "id": "GoU-UZXV7Fz9"
      },
      "execution_count": null,
      "outputs": []
    },
    {
      "cell_type": "code",
      "source": [
        "# ข้อความตัวอย่าง\n",
        "example_textham = [\" it works fine with escapenumber escapenumber escapenumber on my fedora core escapenumber perl e 'for abc\\\\n def hij\\\\n print warn tell stdout \\\\n ' escapenumber abc escapenumber escapenumber defhij escapenumber does not seem to be accurate on this platform uname a cygwin nt escapenumber escapenumber escapelong escapenumber escapenumber escapenumber escapenumber escapenumber escapenumber escapenumber escapenumber escapenumber escapenumber escapenumber escapenumber iescapenumber cygwin perl e 'for abc\\\\n def hij\\\\n print warn tell stdout \\\\n ' escapenumber abc escapenumber escapenumber defhij escapenumber do you yahoo tired of spam yahoo mail has the best spam protection around http mail yahoo com to unsubscribe e mail beginners unsubscribe perl org for additional commands e mail beginners help perl org http learn perl org \"]\n",
        "example_textSpam = [\" your your credit report doesn't matter to us if you own real estate and want immediate ready money to spend any way you like or simply need to lower your entire payment by a third or more here is the deal we can offer you tonight hurry this offer will expire this evening escapenumber escapenumber loan and even more after further review our lenders have established the lowest monthly payments hurry when best deal is gone it is gone simply complete this short form don't worry about approval your your credit report will not disqualify you http luvuiiksheap com \"]\n",
        "\n",
        "# ใช้ CountVectorizer ในการแปลงข้อความตัวอย่างเป็นเวกเตอร์คุณลักษณะ\n",
        "example_text_vectorized = vectorizer.transform(example_textSpam)\n",
        "\n",
        "# ทำนายผลลัพธ์โดยใช้โมเดล ANN ที่โหลดมา\n",
        "prediction = loaded_ann_model.predict(example_text_vectorized)\n",
        "\n",
        "# แสดงผลลัพธ์ที่ทำนาย\n",
        "if prediction == 1:\n",
        "    print(\"Predicted Label (Using Loaded ANN Model): Spam\")\n",
        "else:\n",
        "    print(\"Predicted Label (Using Loaded ANN Model): Ham\")\n"
      ],
      "metadata": {
        "colab": {
          "base_uri": "https://localhost:8080/"
        },
        "id": "6UTJq8IF7Hy3",
        "outputId": "66629cfd-16a5-42eb-c850-52035cb15f98"
      },
      "execution_count": null,
      "outputs": [
        {
          "output_type": "stream",
          "name": "stdout",
          "text": [
            "Predicted Label (Using Loaded ANN Model): Spam\n"
          ]
        }
      ]
    }
  ],
  "metadata": {
    "colab": {
      "provenance": []
    },
    "kernelspec": {
      "display_name": "Python 3",
      "name": "python3"
    },
    "language_info": {
      "name": "python"
    }
  },
  "nbformat": 4,
  "nbformat_minor": 0
}